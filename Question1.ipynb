{
 "cells": [
  {
   "cell_type": "code",
   "execution_count": 91,
   "id": "capital-oakland",
   "metadata": {},
   "outputs": [],
   "source": [
    "# Imports\n",
    "import numpy as np\n",
    "import matplotlib.pyplot as plt\n",
    "import seaborn as sns\n",
    "\n",
    "\n",
    "seed = 0\n",
    "rand_state = 0\n",
    "\n",
    "N = 240\n",
    "V = 441\n",
    "x1 = 21\n",
    "x2 = 21\n",
    "rho = 0.5\n",
    "nsrcs = 6\n"
   ]
  },
  {
   "cell_type": "code",
   "execution_count": 61,
   "id": "liberal-alpha",
   "metadata": {},
   "outputs": [],
   "source": [
    "# Question 1.1\n",
    "\n",
    "AV = np.array([0,20,0,0,0,0])\n",
    "IV = np.array([30,45,60,40,40,40])\n",
    "ONES = np.array([15,20,25,15,20,25])\n",
    "TC = np.zeros((6,240))"
   ]
  },
  {
   "cell_type": "code",
   "execution_count": 62,
   "id": "governmental-machinery",
   "metadata": {},
   "outputs": [
    {
     "data": {
      "text/plain": [
       "array([[0., 0., 0., ..., 0., 0., 0.],\n",
       "       [0., 0., 0., ..., 0., 0., 0.],\n",
       "       [0., 0., 0., ..., 0., 0., 0.],\n",
       "       [0., 0., 0., ..., 0., 0., 0.],\n",
       "       [0., 0., 0., ..., 0., 0., 0.],\n",
       "       [0., 0., 0., ..., 0., 0., 0.]])"
      ]
     },
     "execution_count": 62,
     "metadata": {},
     "output_type": "execute_result"
    }
   ],
   "source": [
    "TC"
   ]
  },
  {
   "cell_type": "code",
   "execution_count": 84,
   "id": "legal-drunk",
   "metadata": {},
   "outputs": [],
   "source": [
    "TC = np.zeros((nsrcs,N))\n",
    "\n",
    "for x in range(nsrcs):\n",
    "    i = 0\n",
    "    while i < N and i+ONES[x] < N:\n",
    "        if i == 0:\n",
    "            TC[x][AV[x]:i+ONES[x]] = 1\n",
    "        else:\n",
    "            TC[x][i:i+ONES[x]] = 1\n",
    "        i += IV[x]"
   ]
  },
  {
   "cell_type": "code",
   "execution_count": 85,
   "id": "satisfied-elevation",
   "metadata": {},
   "outputs": [],
   "source": [
    "for x in range(nsrcs):\n",
    "    TC[x] = (TC[x] - np.mean(TC[x])) / np.std(TC[x])"
   ]
  },
  {
   "cell_type": "code",
   "execution_count": 86,
   "id": "expected-dining",
   "metadata": {},
   "outputs": [
    {
     "data": {
      "text/plain": [
       "array([[ 1.        ,  1.        ,  1.        , ..., -1.        ,\n",
       "        -1.        , -1.        ],\n",
       "       [-0.70710678, -0.70710678, -0.70710678, ..., -0.70710678,\n",
       "        -0.70710678, -0.70710678],\n",
       "       [ 1.18321596,  1.18321596,  1.18321596, ..., -0.84515425,\n",
       "        -0.84515425, -0.84515425],\n",
       "       [ 1.29099445,  1.29099445,  1.29099445, ..., -0.77459667,\n",
       "        -0.77459667, -0.77459667],\n",
       "       [ 1.        ,  1.        ,  1.        , ..., -1.        ,\n",
       "        -1.        , -1.        ],\n",
       "       [ 0.77459667,  0.77459667,  0.77459667, ..., -1.29099445,\n",
       "        -1.29099445, -1.29099445]])"
      ]
     },
     "execution_count": 86,
     "metadata": {},
     "output_type": "execute_result"
    }
   ],
   "source": [
    "TC"
   ]
  },
  {
   "cell_type": "code",
   "execution_count": 89,
   "id": "stock-japan",
   "metadata": {},
   "outputs": [
    {
     "data": {
      "text/plain": [
       "[<matplotlib.lines.Line2D at 0x7fb2f6b9ebb0>]"
      ]
     },
     "execution_count": 89,
     "metadata": {},
     "output_type": "execute_result"
    },
    {
     "data": {
      "image/png": "[encoded data removed]",
      "text/plain": [
       "<Figure size 432x288 with 1 Axes>"
      ]
     },
     "metadata": {
      "needs_background": "light"
     },
     "output_type": "display_data"
    }
   ],
   "source": [
    "plt.plot(TC[4])"
   ]
  },
  {
   "cell_type": "code",
   "execution_count": 96,
   "id": "associate-classification",
   "metadata": {},
   "outputs": [
    {
     "data": {
      "image/png": "[encoded data removed]",
      "text/plain": [
       "<Figure size 432x288 with 2 Axes>"
      ]
     },
     "metadata": {
      "needs_background": "light"
     },
     "output_type": "display_data"
    }
   ],
   "source": [
    "from scipy.stats import random_correlation\n",
    "\n",
    "ax = sns.heatmap(np.corrcoef(TC))\n",
    "plt.show()"
   ]
  },
  {
   "cell_type": "code",
   "execution_count": 95,
   "id": "affiliated-lobby",
   "metadata": {},
   "outputs": [
    {
     "data": {
      "text/plain": [
       "array([[ 1.00000000e+00, -6.93889390e-17,  1.69030851e-01,\n",
       "         8.60662966e-02,  0.00000000e+00,  8.60662966e-02],\n",
       "       [-6.93889390e-17,  1.00000000e+00,  2.98807152e-02,\n",
       "        -2.73861279e-01, -1.76776695e-01, -4.62750896e-17],\n",
       "       [ 1.69030851e-01,  2.98807152e-02,  1.00000000e+00,\n",
       "         4.36435780e-02, -1.20274161e-17,  1.30930734e-01],\n",
       "       [ 8.60662966e-02, -2.73861279e-01,  4.36435780e-02,\n",
       "         1.00000000e+00,  7.74596669e-01,  6.00000000e-01],\n",
       "       [ 0.00000000e+00, -1.76776695e-01, -1.20274161e-17,\n",
       "         7.74596669e-01,  1.00000000e+00,  7.74596669e-01],\n",
       "       [ 8.60662966e-02, -4.62750896e-17,  1.30930734e-01,\n",
       "         6.00000000e-01,  7.74596669e-01,  1.00000000e+00]])"
      ]
     },
     "execution_count": 95,
     "metadata": {},
     "output_type": "execute_result"
    }
   ],
   "source": []
  },
  {
   "cell_type": "code",
   "execution_count": null,
   "id": "unsigned-duration",
   "metadata": {},
   "outputs": [],
   "source": []
  }
 ],
 "metadata": {
  "kernelspec": {
   "display_name": "Python 3",
   "language": "python",
   "name": "python3"
  },
  "language_info": {
   "codemirror_mode": {
    "name": "ipython",
    "version": 3
   },
   "file_extension": ".py",
   "mimetype": "text/x-python",
   "name": "python",
   "nbconvert_exporter": "python",
   "pygments_lexer": "ipython3",
   "version": "3.9.2"
  }
 },
 "nbformat": 4,
 "nbformat_minor": 5
}
